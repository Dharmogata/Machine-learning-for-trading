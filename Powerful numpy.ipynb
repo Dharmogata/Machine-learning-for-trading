{
 "cells": [
  {
   "cell_type": "markdown",
   "metadata": {},
   "source": [
    "## Creating Numpy Arrays"
   ]
  },
  {
   "cell_type": "code",
   "execution_count": 1,
   "metadata": {
    "collapsed": true
   },
   "outputs": [],
   "source": [
    "import numpy as np\n"
   ]
  },
  {
   "cell_type": "code",
   "execution_count": 7,
   "metadata": {
    "collapsed": false
   },
   "outputs": [],
   "source": [
    "def test_run():\n",
    "    # List to 1D array\n",
    "    #print np.array([2,3,4])\n",
    "    print np.array([(2,3,4), (5, 6, 7)])"
   ]
  },
  {
   "cell_type": "code",
   "execution_count": 8,
   "metadata": {
    "collapsed": false
   },
   "outputs": [
    {
     "name": "stdout",
     "output_type": "stream",
     "text": [
      "[[2 3 4]\n",
      " [5 6 7]]\n"
     ]
    }
   ],
   "source": [
    "if __name__ == \"__main__\":\n",
    "    test_run()"
   ]
  },
  {
   "cell_type": "code",
   "execution_count": 24,
   "metadata": {
    "collapsed": true
   },
   "outputs": [],
   "source": [
    "def test_run1():\n",
    "    # Empty array\n",
    "    #print np.empty(5)\n",
    "    #print np.empty((5,4))\n",
    "    #print np.ones((5,4))\n",
    "    print np.ones((5,4), dtype= np.int_)"
   ]
  },
  {
   "cell_type": "code",
   "execution_count": 25,
   "metadata": {
    "collapsed": false
   },
   "outputs": [
    {
     "name": "stdout",
     "output_type": "stream",
     "text": [
      "[[1 1 1 1]\n",
      " [1 1 1 1]\n",
      " [1 1 1 1]\n",
      " [1 1 1 1]\n",
      " [1 1 1 1]]\n"
     ]
    }
   ],
   "source": [
    "if __name__ == \"__main__\":\n",
    "    test_run1()"
   ]
  },
  {
   "cell_type": "code",
   "execution_count": 31,
   "metadata": {
    "collapsed": false
   },
   "outputs": [],
   "source": [
    "def test_run2():\n",
    "    # Generate an array full of random numbers\n",
    "    #print np.random.random((5,4))\n",
    "    # Sample numbers from a Gaussian(normal)distribution\n",
    "    #print np.random.normal(size=(2, 3)) #standard normal (mean=0, s.d=1)\n",
    "    print np.random.normal(50, 10, size=(2,3))"
   ]
  },
  {
   "cell_type": "code",
   "execution_count": 32,
   "metadata": {
    "collapsed": false
   },
   "outputs": [
    {
     "name": "stdout",
     "output_type": "stream",
     "text": [
      "[[ 52.78765319  51.26390296  44.51430074]\n",
      " [ 44.0613047   45.80687283  43.07202576]]\n"
     ]
    }
   ],
   "source": [
    "if __name__ == \"__main__\":\n",
    "    test_run2()"
   ]
  },
  {
   "cell_type": "code",
   "execution_count": 35,
   "metadata": {
    "collapsed": true
   },
   "outputs": [],
   "source": [
    "def test_run3():\n",
    "    #Random integers\n",
    "    print np.random.randint(10) # a single integer in [0,10)\n",
    "    print np.random.randint(0, 10) # same as above, specifying [low, high) explicit\n",
    "    print np.random.randint(0, 10, size=5) # 5 random integers as a 1D array\n",
    "    print np.random.randint(0, 10, size=(2,3)) # 2*3 array of random integers"
   ]
  },
  {
   "cell_type": "code",
   "execution_count": 36,
   "metadata": {
    "collapsed": false
   },
   "outputs": [
    {
     "name": "stdout",
     "output_type": "stream",
     "text": [
      "4\n",
      "9\n",
      "[1 9 1 5 9]\n",
      "[[7 5 7]\n",
      " [3 4 9]]\n"
     ]
    }
   ],
   "source": [
    "if __name__ == \"__main__\":\n",
    "    test_run3()"
   ]
  },
  {
   "cell_type": "markdown",
   "metadata": {},
   "source": [
    "## Array attributes"
   ]
  },
  {
   "cell_type": "code",
   "execution_count": 47,
   "metadata": {
    "collapsed": true
   },
   "outputs": [],
   "source": [
    "def test_run4():\n",
    "    a = np.random.random((5, 4)) # 5*4 array of random numbers\n",
    "    print a\n",
    "    print a.shape\n",
    "    print a.shape[0]\n",
    "    print a.shape[1]\n",
    "    print len(a.shape)\n",
    "    print a.size\n",
    "    print a.dtype\n",
    "    "
   ]
  },
  {
   "cell_type": "code",
   "execution_count": 48,
   "metadata": {
    "collapsed": false
   },
   "outputs": [
    {
     "name": "stdout",
     "output_type": "stream",
     "text": [
      "[[ 0.11655401  0.19052906  0.98395018  0.91406646]\n",
      " [ 0.66992598  0.90162533  0.43184072  0.30788882]\n",
      " [ 0.08142162  0.10970675  0.92016876  0.11979829]\n",
      " [ 0.24088411  0.88816033  0.45542953  0.83311961]\n",
      " [ 0.33684177  0.61669066  0.46902725  0.80514616]]\n",
      "(5L, 4L)\n",
      "5\n",
      "4\n",
      "2\n",
      "20\n",
      "float64\n"
     ]
    }
   ],
   "source": [
    "if __name__ == \"__main__\":\n",
    "    test_run4()"
   ]
  },
  {
   "cell_type": "markdown",
   "metadata": {},
   "source": [
    "## operations on ndarrays"
   ]
  },
  {
   "cell_type": "code",
   "execution_count": 55,
   "metadata": {
    "collapsed": true
   },
   "outputs": [],
   "source": [
    "def test_run5():\n",
    "    np.random.seed(693) # seed the random num generator\n",
    "    a = np.random.randint(0, 10, size=(5, 4))\n",
    "    print \"Array:\\n\", a\n",
    "    \n",
    "    # Sum of all elements\n",
    "    print \"Sum of all elements:\" , a.sum()\n",
    "    \n",
    "    # Iterate over raws, to comput sum of each column\n",
    "    print \"Sum of each column:\\n\", a.sum(axis=0)\n",
    "    \n",
    "    # Iterate over colums to compute sum of each row\n",
    "    print \"Sum of each row:\\n\", a.sum(axis=1)\n",
    "    \n",
    "    # Statistics: min, max, mean(across rows, cols, and overall)\n",
    "    print \"Minimum of each column:\\n\", a.min(axis=0)\n",
    "    print \"Maximun of each row:\\n\", a.max(axis=1)\n",
    "    print \"Mean of all elements:\", a.mean() # leave out axis arg.\n",
    "    \n",
    "    "
   ]
  },
  {
   "cell_type": "code",
   "execution_count": 56,
   "metadata": {
    "collapsed": false
   },
   "outputs": [
    {
     "name": "stdout",
     "output_type": "stream",
     "text": [
      "Array:\n",
      "[[2 0 5 1]\n",
      " [1 3 4 4]\n",
      " [9 2 9 1]\n",
      " [9 3 7 5]\n",
      " [4 7 0 3]]\n",
      "Sum of all elements: 79\n",
      "Sum of each column:\n",
      "[25 15 25 14]\n",
      "Sum of each row:\n",
      "[ 8 12 21 24 14]\n",
      "Minimum of each column:\n",
      "[1 0 0 1]\n",
      "Maximun of each row:\n",
      "[5 4 9 9 7]\n",
      "Mean of all elements: 3.95\n"
     ]
    }
   ],
   "source": [
    "if __name__ == \"__main__\":\n",
    "    test_run5()"
   ]
  },
  {
   "cell_type": "markdown",
   "metadata": {},
   "source": [
    "## Locate maximum value\n"
   ]
  },
  {
   "cell_type": "code",
   "execution_count": 57,
   "metadata": {
    "collapsed": true
   },
   "outputs": [],
   "source": [
    "def get_max_index(a):\n",
    "    \"\"\"Return the index the maximum value in given 1D array.\"\"\"\n",
    "    return a.argmax()"
   ]
  },
  {
   "cell_type": "code",
   "execution_count": 58,
   "metadata": {
    "collapsed": true
   },
   "outputs": [],
   "source": [
    "def test_run6():\n",
    "    \n",
    "    a = np.array([9, 6, 2, 3, 12, 14, 7, 10], dtype=np.int32) # 32 bit integer array.\n",
    "    print \"Array:\\n\", a\n",
    "    \n",
    "    print \"Maximum value:\", a.max()\n",
    "    print \"Index of max.:\", get_max_index(a)"
   ]
  },
  {
   "cell_type": "code",
   "execution_count": 59,
   "metadata": {
    "collapsed": false
   },
   "outputs": [
    {
     "name": "stdout",
     "output_type": "stream",
     "text": [
      "Array:\n",
      "[ 9  6  2  3 12 14  7 10]\n",
      "Maximum value: 14\n",
      "Index of max.: 5\n"
     ]
    }
   ],
   "source": [
    "if __name__ == \"__main__\":\n",
    "    test_run6()"
   ]
  },
  {
   "cell_type": "markdown",
   "metadata": {},
   "source": [
    "## Timing Python operations"
   ]
  },
  {
   "cell_type": "code",
   "execution_count": 63,
   "metadata": {
    "collapsed": true
   },
   "outputs": [],
   "source": [
    "import time\n",
    "\n",
    "\n",
    "def test_run7():\n",
    "    t1 = time.time()\n",
    "    print \"ML4T\"\n",
    "    t2 = time.time()\n",
    "    print \"The time taken by print statement is\", t2 - t1,\"seconds\""
   ]
  },
  {
   "cell_type": "code",
   "execution_count": 62,
   "metadata": {
    "collapsed": false
   },
   "outputs": [
    {
     "name": "stdout",
     "output_type": "stream",
     "text": [
      "ML4T\n",
      "The time taken by print statement is 0.0 seconds\n"
     ]
    }
   ],
   "source": [
    "if __name__ == \"__main__\":\n",
    "    test_run7()"
   ]
  },
  {
   "cell_type": "code",
   "execution_count": 70,
   "metadata": {
    "collapsed": false
   },
   "outputs": [],
   "source": [
    "import numpy as np\n",
    "from time import time\n",
    "\n",
    "def how_long(func, *args):\n",
    "    \"\"\" Execute function with given arguments, and measures execution time.\"\"\"\n",
    "    t0 = time()\n",
    "    result = func(*args)\n",
    "    t1 = time()\n",
    "    return result, t1 - t0\n",
    "\n",
    "def manual_mean(arr):\n",
    "    \"\"\" Compute mean (average) of all elements in the given 2D array.\"\"\"\n",
    "    sum = 0\n",
    "    for i in xrange(0, arr.shape[0]):\n",
    "        for j in xrange(0, arr.shape[1]):\n",
    "            sum = sum + arr[i, j]\n",
    "    return sum / arr.size\n",
    "\n",
    "def numpy_mean(arr):\n",
    "    \"\"\"Compute mean(average) using Numpy\"\"\"\n",
    "    return arr.mean()"
   ]
  },
  {
   "cell_type": "code",
   "execution_count": 77,
   "metadata": {
    "collapsed": true
   },
   "outputs": [],
   "source": [
    "def test_run8():\n",
    "    \"\"\"Function called by Test Run\"\"\"\n",
    "    nd1 = np.random.random((1000, 10000)) # use a sufficiently large array\n",
    "    \n",
    "    # Time the two functions, retrieving results and execution times\n",
    "    res_manual, t_manual = how_long(manual_mean, nd1)\n",
    "    res_numpy, t_numpy = how_long(numpy_mean, nd1)\n",
    "    print \"Manual: {:.6f}({:.3f} secs.) vs. Numpy: {:.6f}({:.3f} secs.)\".format(res_manual,t_manual, res_numpy, t_numpy)\n",
    "    \n",
    "    # Make sure both give us the same answer\n",
    "    \n",
    "    # Compute speed up\n",
    "    speedup = t_manual / t_numpy\n",
    "    print \"Numpy mean is\", speedup, \"times faster than nanual for loops\""
   ]
  },
  {
   "cell_type": "code",
   "execution_count": 79,
   "metadata": {
    "collapsed": false
   },
   "outputs": [
    {
     "name": "stdout",
     "output_type": "stream",
     "text": [
      "Manual: 0.500139(2.922 secs.) vs. Numpy: 0.500139(0.012 secs.)\n",
      "Numpy mean is 243.498291345 times faster than nanual for loops\n"
     ]
    }
   ],
   "source": [
    "if __name__ == \"__main__\":\n",
    "    test_run8()"
   ]
  },
  {
   "cell_type": "markdown",
   "metadata": {},
   "source": [
    "## Accessing array elements"
   ]
  },
  {
   "cell_type": "code",
   "execution_count": 90,
   "metadata": {
    "collapsed": true
   },
   "outputs": [],
   "source": [
    "def test_run9():\n",
    "    a = np.random.rand(5, 4)\n",
    "    print \"Array:\\n\", a\n",
    "    \n",
    "    # Accessing element at position(3,2)\n",
    "    element = a[3, 2]\n",
    "    print element\n",
    "    print a[0, 1:3]\n",
    "    print a[:, 0:3:2]\n",
    "    # Assigning a value to a particular location\n",
    "    a[0, 0] = 1\n",
    "    print \"\\nModified (replaced one element): \\n\", a\n",
    "    \n",
    "    a[:, 3] = [1, 2, 3, 4, 5]\n",
    "    print \"\\nModified (replaced a column with a list):\\n\", a\n",
    "    \n",
    "    "
   ]
  },
  {
   "cell_type": "code",
   "execution_count": 91,
   "metadata": {
    "collapsed": false
   },
   "outputs": [
    {
     "name": "stdout",
     "output_type": "stream",
     "text": [
      "Array:\n",
      "[[ 0.01555187  0.69030769  0.9418863   0.88984321]\n",
      " [ 0.87055418  0.60803597  0.30997231  0.10427046]\n",
      " [ 0.10357885  0.70773864  0.91805017  0.36532294]\n",
      " [ 0.00613004  0.77027563  0.8053355   0.4649844 ]\n",
      " [ 0.41929022  0.99456605  0.48670849  0.10894879]]\n",
      "0.805335499388\n",
      "[ 0.69030769  0.9418863 ]\n",
      "[[ 0.01555187  0.9418863 ]\n",
      " [ 0.87055418  0.30997231]\n",
      " [ 0.10357885  0.91805017]\n",
      " [ 0.00613004  0.8053355 ]\n",
      " [ 0.41929022  0.48670849]]\n",
      "\n",
      "Modified (replaced one element): \n",
      "[[ 1.          0.69030769  0.9418863   0.88984321]\n",
      " [ 0.87055418  0.60803597  0.30997231  0.10427046]\n",
      " [ 0.10357885  0.70773864  0.91805017  0.36532294]\n",
      " [ 0.00613004  0.77027563  0.8053355   0.4649844 ]\n",
      " [ 0.41929022  0.99456605  0.48670849  0.10894879]]\n",
      "\n",
      "Modified (replaced a column with a list):\n",
      "[[ 1.          0.69030769  0.9418863   1.        ]\n",
      " [ 0.87055418  0.60803597  0.30997231  2.        ]\n",
      " [ 0.10357885  0.70773864  0.91805017  3.        ]\n",
      " [ 0.00613004  0.77027563  0.8053355   4.        ]\n",
      " [ 0.41929022  0.99456605  0.48670849  5.        ]]\n"
     ]
    }
   ],
   "source": [
    "if __name__ == \"__main__\":\n",
    "    test_run9()"
   ]
  },
  {
   "cell_type": "markdown",
   "metadata": {},
   "source": [
    "## indexing an array with another array"
   ]
  },
  {
   "cell_type": "code",
   "execution_count": 96,
   "metadata": {
    "collapsed": false
   },
   "outputs": [],
   "source": [
    "def test_run10():\n",
    "    a = np.random.rand(5)\n",
    "    \n",
    "    #accessing using list of indices\n",
    "    indices = np.array([1, 1, 2, 3])\n",
    "    print a\n",
    "    print a[indices]"
   ]
  },
  {
   "cell_type": "code",
   "execution_count": 97,
   "metadata": {
    "collapsed": false
   },
   "outputs": [
    {
     "name": "stdout",
     "output_type": "stream",
     "text": [
      "[ 0.05096528  0.41485692  0.61708567  0.47245055  0.79264623]\n",
      "[ 0.41485692  0.41485692  0.61708567  0.47245055]\n"
     ]
    }
   ],
   "source": [
    "if __name__ == \"__main__\":\n",
    "    test_run10()"
   ]
  },
  {
   "cell_type": "markdown",
   "metadata": {},
   "source": [
    "## Boolean or \"mask\" index arrays"
   ]
  },
  {
   "cell_type": "code",
   "execution_count": 109,
   "metadata": {
    "collapsed": false
   },
   "outputs": [],
   "source": [
    "def test_run11():\n",
    "    a = np.array([(20, 25, 10, 23,26, 32, 10, 5, 0),(0,2,50,20,0,1,28,5,0)])\n",
    "    print a\n",
    "    \n",
    "    # calculating mean\n",
    "    mean = a.mean()\n",
    "    print mean\n",
    "    \n",
    "    # masking\n",
    "    print a[a<mean]== mean\n",
    "    print a\n",
    "    "
   ]
  },
  {
   "cell_type": "code",
   "execution_count": 110,
   "metadata": {
    "collapsed": false
   },
   "outputs": [
    {
     "name": "stdout",
     "output_type": "stream",
     "text": [
      "[[20 25 10 23 26 32 10  5  0]\n",
      " [ 0  2 50 20  0  1 28  5  0]]\n",
      "14.2777777778\n",
      "[False False False False False False False False False False]\n",
      "[[20 25 10 23 26 32 10  5  0]\n",
      " [ 0  2 50 20  0  1 28  5  0]]\n"
     ]
    }
   ],
   "source": [
    "if __name__ == \"__main__\":\n",
    "    test_run11()"
   ]
  },
  {
   "cell_type": "markdown",
   "metadata": {},
   "source": [
    "## Arithmetic operations"
   ]
  },
  {
   "cell_type": "code",
   "execution_count": 114,
   "metadata": {
    "collapsed": false
   },
   "outputs": [],
   "source": [
    "def test_run12():\n",
    "    a = np.array([(1,2,3,4,5),(10,20,30,40,50)])\n",
    "    print \"Original array a:\\n\", a\n",
    "    \n",
    "    b = np.array([(100, 200, 300, 400, 500),(1, 2, 3, 4, 5)])\n",
    "    print \"\\nOriginal array b:n\", b\n",
    "    \n",
    "    # Divide a by b\n",
    "    print \"\\nDivide a by b:\\n\", a / b"
   ]
  },
  {
   "cell_type": "code",
   "execution_count": 116,
   "metadata": {
    "collapsed": false
   },
   "outputs": [
    {
     "name": "stdout",
     "output_type": "stream",
     "text": [
      "Original array a:\n",
      "[[ 1  2  3  4  5]\n",
      " [10 20 30 40 50]]\n",
      "\n",
      "Original array b:n [[100 200 300 400 500]\n",
      " [  1   2   3   4   5]]\n",
      "\n",
      "Divide a by b:\n",
      "[[ 0  0  0  0  0]\n",
      " [10 10 10 10 10]]\n"
     ]
    }
   ],
   "source": [
    "if __name__ == \"__main__\":\n",
    "    test_run12()"
   ]
  },
  {
   "cell_type": "code",
   "execution_count": null,
   "metadata": {
    "collapsed": true
   },
   "outputs": [],
   "source": []
  }
 ],
 "metadata": {
  "kernelspec": {
   "display_name": "Python 2",
   "language": "python",
   "name": "python2"
  },
  "language_info": {
   "codemirror_mode": {
    "name": "ipython",
    "version": 2
   },
   "file_extension": ".py",
   "mimetype": "text/x-python",
   "name": "python",
   "nbconvert_exporter": "python",
   "pygments_lexer": "ipython2",
   "version": "2.7.10"
  }
 },
 "nbformat": 4,
 "nbformat_minor": 0
}
